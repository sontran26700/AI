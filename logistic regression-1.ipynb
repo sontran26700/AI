{
 "cells": [
  {
   "cell_type": "code",
   "execution_count": 52,
   "metadata": {},
   "outputs": [],
   "source": [
    "import numpy as np\n",
    "import matplotlib.pyplot as plt\n"
   ]
  },
  {
   "cell_type": "code",
   "execution_count": 53,
   "metadata": {},
   "outputs": [
    {
     "name": "stdout",
     "output_type": "stream",
     "text": [
      "(2, 7)\n",
      "[[1.  0.1 0.1]\n",
      " [1.  2.  2. ]\n",
      " [1.  3.  3. ]\n",
      " [1.  4.  4. ]\n",
      " [1.  5.  5. ]\n",
      " [1.  6.  6. ]\n",
      " [1.  7.  7. ]]\n",
      "[[1]\n",
      " [1]\n",
      " [2]]\n",
      "[[ 1.3]\n",
      " [ 7. ]\n",
      " [10. ]\n",
      " [13. ]\n",
      " [16. ]\n",
      " [19. ]\n",
      " [22. ]]\n"
     ]
    }
   ],
   "source": [
    "X = np.array([[0.1,2,3,4,5,6,7],[0.1,2,3,4,5,6,7]])\n",
    "Y = np.array([[0,0,0,0,1,1,1]])\n",
    "print(X.shape)\n",
    "one = np.ones((X.shape[1], 1))\n",
    "X = np.array(X).T\n",
    "X = np.concatenate((one,X),axis=1)\n",
    "Y = np.array(Y).T\n",
    "\n",
    "# test \n",
    "print(X)\n",
    "W = np.array([[1,1,2]]).T\n",
    "print(W)\n",
    "c = np.dot(X,W)\n",
    "print(c)"
   ]
  },
  {
   "cell_type": "code",
   "execution_count": 54,
   "metadata": {},
   "outputs": [
    {
     "name": "stdout",
     "output_type": "stream",
     "text": [
      "[7.]\n",
      "7\n"
     ]
    }
   ],
   "source": [
    "# step 1: initialize and forward propagate  \n",
    "# f(x) = w_1 * x + w_0\n",
    "# g(x) = 1/(1+e^f(x))\n",
    "def f(x):\n",
    "    return np.dot(x,W) \n",
    "\n",
    "print(f(X[1])) \n",
    "print(len(X))"
   ]
  },
  {
   "cell_type": "code",
   "execution_count": 55,
   "metadata": {},
   "outputs": [
    {
     "name": "stdout",
     "output_type": "stream",
     "text": [
      "[0.78583498]\n"
     ]
    }
   ],
   "source": [
    "# activate function \n",
    "def act(x):\n",
    "    u = f(x)\n",
    "    return 1/(1+np.exp(-u))\n",
    "print(act(X[0]))"
   ]
  },
  {
   "cell_type": "code",
   "execution_count": 56,
   "metadata": {},
   "outputs": [
    {
     "name": "stdout",
     "output_type": "stream",
     "text": [
      "[0.25825857]\n"
     ]
    }
   ],
   "source": [
    "# step 2: loss function \n",
    "def loss():\n",
    "    sum = 0\n",
    "    for i in range(len(X)):\n",
    "        sum += (act(X[i])-Y[i])**2\n",
    "    return sum/(2*len(X)) \n",
    "print(loss())"
   ]
  },
  {
   "cell_type": "code",
   "execution_count": 64,
   "metadata": {},
   "outputs": [
    {
     "name": "stdout",
     "output_type": "stream",
     "text": [
      "[0.00092551]\n"
     ]
    }
   ],
   "source": [
    "# step 3: Differentiation\n",
    "def derivate(k):\n",
    "    sum = 0\n",
    "    for i in range(len(X)):\n",
    "        d1 = 2*(act(X[i])-Y[i])\n",
    "        u = f(X[i])\n",
    "        fu = 1/(1+np.exp(-u))\n",
    "        d2 = fu*(1-fu)\n",
    "        d3 = X[i][k]\n",
    "        sum = sum + d1*d2*d3\n",
    "    return sum/(2*len(X))\n",
    "\n",
    "print(derivate(2))"
   ]
  },
  {
   "cell_type": "code",
   "execution_count": 63,
   "metadata": {},
   "outputs": [
    {
     "name": "stdout",
     "output_type": "stream",
     "text": [
      "[0.28029584]\n"
     ]
    }
   ],
   "source": [
    "# step 3: Differentiation\n",
    "def derivate_other(k):\n",
    "    sum = 0\n",
    "    for i in range(len(X)):\n",
    "        sum = sum + (act(X[i])-Y[i])\n",
    "    return sum/(2*len(X))\n",
    "\n",
    "print(derivate_other(2))"
   ]
  },
  {
   "cell_type": "code",
   "execution_count": 65,
   "metadata": {},
   "outputs": [
    {
     "name": "stdout",
     "output_type": "stream",
     "text": [
      "0 :  [0.27528844]\n",
      "1 :  [0.25839547]\n",
      "2 :  [0.25449216]\n",
      "3 :  [0.25038923]\n",
      "4 :  [0.24829033]\n",
      "5 :  [0.24617666]\n",
      "6 :  [0.24406141]\n",
      "7 :  [0.24195459]\n",
      "8 :  [0.23983884]\n",
      "9 :  [0.23748472]\n",
      "10 :  [0.23293277]\n",
      "11 :  [0.20880049]\n",
      "12 :  [0.125]\n",
      "[0.125]\n",
      "[[0]\n",
      " [0]\n",
      " [0]]\n"
     ]
    }
   ],
   "source": [
    "# step 4: update weight \n",
    "epoch = 50\n",
    "learning_rate = 0.001\n",
    "epsilon = 0.0001\n",
    "W = np.array([[1,3,12]]).T\n",
    "for iter in range(epoch):\n",
    "    before_loss = loss()\n",
    "    print(iter,': ',before_loss) \n",
    "    for i in range(len(W)):\n",
    "        W[i] = W[i] - learning_rate*derivate(i)\n",
    "    if before_loss-loss() < epsilon:\n",
    "        break \n",
    "print(loss())\n",
    "# print result \n",
    "print(W)\n",
    "    "
   ]
  },
  {
   "cell_type": "code",
   "execution_count": null,
   "metadata": {},
   "outputs": [],
   "source": []
  }
 ],
 "metadata": {
  "kernelspec": {
   "display_name": "Python 3",
   "language": "python",
   "name": "python3"
  },
  "language_info": {
   "codemirror_mode": {
    "name": "ipython",
    "version": 3
   },
   "file_extension": ".py",
   "mimetype": "text/x-python",
   "name": "python",
   "nbconvert_exporter": "python",
   "pygments_lexer": "ipython3",
   "version": "3.7.4"
  }
 },
 "nbformat": 4,
 "nbformat_minor": 2
}
